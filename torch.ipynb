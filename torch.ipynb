{
 "cells": [
  {
   "cell_type": "code",
   "execution_count": 1,
   "metadata": {},
   "outputs": [
    {
     "name": "stdout",
     "output_type": "stream",
     "text": [
      "Requirement already satisfied: fvcore in c:\\users\\algha\\appdata\\local\\programs\\python\\python310\\lib\\site-packages (0.1.5.post20221221)\n",
      "Requirement already satisfied: iopath in c:\\users\\algha\\appdata\\local\\programs\\python\\python310\\lib\\site-packages (0.1.10)\n",
      "Requirement already satisfied: Pillow in c:\\users\\algha\\appdata\\local\\programs\\python\\python310\\lib\\site-packages (from fvcore) (10.0.0)\n",
      "Requirement already satisfied: numpy in c:\\users\\algha\\appdata\\local\\programs\\python\\python310\\lib\\site-packages (from fvcore) (1.24.3)\n",
      "Requirement already satisfied: yacs>=0.1.6 in c:\\users\\algha\\appdata\\local\\programs\\python\\python310\\lib\\site-packages (from fvcore) (0.1.8)\n",
      "Requirement already satisfied: tabulate in c:\\users\\algha\\appdata\\local\\programs\\python\\python310\\lib\\site-packages (from fvcore) (0.9.0)\n",
      "Requirement already satisfied: termcolor>=1.1 in c:\\users\\algha\\appdata\\local\\programs\\python\\python310\\lib\\site-packages (from fvcore) (2.3.0)\n",
      "Requirement already satisfied: tqdm in c:\\users\\algha\\appdata\\local\\programs\\python\\python310\\lib\\site-packages (from fvcore) (4.66.1)\n",
      "Requirement already satisfied: pyyaml>=5.1 in c:\\users\\algha\\appdata\\local\\programs\\python\\python310\\lib\\site-packages (from fvcore) (6.0.1)\n",
      "Requirement already satisfied: typing-extensions in c:\\users\\algha\\appdata\\local\\programs\\python\\python310\\lib\\site-packages (from iopath) (4.5.0)\n",
      "Requirement already satisfied: portalocker in c:\\users\\algha\\appdata\\local\\programs\\python\\python310\\lib\\site-packages (from iopath) (2.8.2)\n",
      "Requirement already satisfied: pywin32>=226 in c:\\users\\algha\\appdata\\local\\programs\\python\\python310\\lib\\site-packages (from portalocker->iopath) (306)\n",
      "Requirement already satisfied: colorama in c:\\users\\algha\\appdata\\local\\programs\\python\\python310\\lib\\site-packages (from tqdm->fvcore) (0.4.6)\n",
      "Note: you may need to restart the kernel to use updated packages.\n"
     ]
    },
    {
     "name": "stderr",
     "output_type": "stream",
     "text": [
      "WARNING: Ignoring invalid distribution -rotobuf (c:\\users\\algha\\appdata\\local\\programs\\python\\python310\\lib\\site-packages)\n",
      "WARNING: Ignoring invalid distribution -pencv-python (c:\\users\\algha\\appdata\\local\\programs\\python\\python310\\lib\\site-packages)\n",
      "WARNING: Ignoring invalid distribution -rotobuf (c:\\users\\algha\\appdata\\local\\programs\\python\\python310\\lib\\site-packages)\n",
      "WARNING: Ignoring invalid distribution -pencv-python (c:\\users\\algha\\appdata\\local\\programs\\python\\python310\\lib\\site-packages)\n",
      "WARNING: Ignoring invalid distribution -rotobuf (c:\\users\\algha\\appdata\\local\\programs\\python\\python310\\lib\\site-packages)\n",
      "WARNING: Ignoring invalid distribution -pencv-python (c:\\users\\algha\\appdata\\local\\programs\\python\\python310\\lib\\site-packages)\n",
      "WARNING: Ignoring invalid distribution -rotobuf (c:\\users\\algha\\appdata\\local\\programs\\python\\python310\\lib\\site-packages)\n",
      "WARNING: Ignoring invalid distribution -pencv-python (c:\\users\\algha\\appdata\\local\\programs\\python\\python310\\lib\\site-packages)\n",
      "WARNING: Ignoring invalid distribution -rotobuf (c:\\users\\algha\\appdata\\local\\programs\\python\\python310\\lib\\site-packages)\n",
      "WARNING: Ignoring invalid distribution -pencv-python (c:\\users\\algha\\appdata\\local\\programs\\python\\python310\\lib\\site-packages)\n",
      "WARNING: Ignoring invalid distribution -rotobuf (c:\\users\\algha\\appdata\\local\\programs\\python\\python310\\lib\\site-packages)\n",
      "WARNING: Ignoring invalid distribution -pencv-python (c:\\users\\algha\\appdata\\local\\programs\\python\\python310\\lib\\site-packages)\n",
      "\n",
      "[notice] A new release of pip available: 22.3.1 -> 23.3.1\n",
      "[notice] To update, run: python.exe -m pip install --upgrade pip\n"
     ]
    },
    {
     "name": "stdout",
     "output_type": "stream",
     "text": [
      "Looking in links: https://dl.fbaipublicfiles.com/pytorch3d/packaging/wheels/py310_cu121_pyt210/download.html\n",
      "Note: you may need to restart the kernel to use updated packages.\n"
     ]
    },
    {
     "name": "stderr",
     "output_type": "stream",
     "text": [
      "WARNING: Ignoring invalid distribution -rotobuf (c:\\users\\algha\\appdata\\local\\programs\\python\\python310\\lib\\site-packages)\n",
      "WARNING: Ignoring invalid distribution -pencv-python (c:\\users\\algha\\appdata\\local\\programs\\python\\python310\\lib\\site-packages)\n",
      "WARNING: Ignoring invalid distribution -rotobuf (c:\\users\\algha\\appdata\\local\\programs\\python\\python310\\lib\\site-packages)\n",
      "WARNING: Ignoring invalid distribution -pencv-python (c:\\users\\algha\\appdata\\local\\programs\\python\\python310\\lib\\site-packages)\n",
      "ERROR: Could not find a version that satisfies the requirement pytorch3d (from versions: none)\n",
      "ERROR: No matching distribution found for pytorch3d\n"
     ]
    }
   ],
   "source": [
    "import sys\n",
    "import torch\n",
    "pyt_version_str=torch.__version__.split(\"+\")[0].replace(\".\", \"\")\n",
    "version_str=\"\".join([\n",
    "    f\"py3{sys.version_info.minor}_cu\",\n",
    "    torch.version.cuda.replace(\".\",\"\"),\n",
    "    f\"_pyt{pyt_version_str}\"\n",
    "])\n",
    "%pip install fvcore iopath\n",
    "%pip install --no-index --no-cache-dir pytorch3d -f https://dl.fbaipublicfiles.com/pytorch3d/packaging/wheels/{version_str}/download.html"
   ]
  }
 ],
 "metadata": {
  "kernelspec": {
   "display_name": "Python 3",
   "language": "python",
   "name": "python3"
  },
  "language_info": {
   "codemirror_mode": {
    "name": "ipython",
    "version": 3
   },
   "file_extension": ".py",
   "mimetype": "text/x-python",
   "name": "python",
   "nbconvert_exporter": "python",
   "pygments_lexer": "ipython3",
   "version": "3.10.10"
  }
 },
 "nbformat": 4,
 "nbformat_minor": 2
}
